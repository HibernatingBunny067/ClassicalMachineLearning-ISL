{
 "cells": [
  {
   "cell_type": "code",
   "execution_count": 1,
   "id": "2b5139fb",
   "metadata": {
    "_cell_guid": "b1076dfc-b9ad-4769-8c92-a6c4dae69d19",
    "_uuid": "8f2839f25d086af736a60e9eeb907d3b93b6e0e5",
    "execution": {
     "iopub.execute_input": "2025-08-02T12:10:43.198723Z",
     "iopub.status.busy": "2025-08-02T12:10:43.198414Z",
     "iopub.status.idle": "2025-08-02T12:10:46.874343Z",
     "shell.execute_reply": "2025-08-02T12:10:46.873330Z"
    },
    "papermill": {
     "duration": 3.680934,
     "end_time": "2025-08-02T12:10:46.876297",
     "exception": false,
     "start_time": "2025-08-02T12:10:43.195363",
     "status": "completed"
    },
    "tags": []
   },
   "outputs": [],
   "source": [
    "import pandas as pd\n",
    "import numpy as np\n",
    "import matplotlib.pyplot as plt\n",
    "import seaborn as sns\n",
    "\n",
    "ROOT = r'/kaggle/input/ames-housing-dataset/AmesHousing.csv'"
   ]
  },
  {
   "cell_type": "code",
   "execution_count": null,
   "id": "05298f98",
   "metadata": {
    "papermill": {
     "duration": 0.001054,
     "end_time": "2025-08-02T12:10:46.879127",
     "exception": false,
     "start_time": "2025-08-02T12:10:46.878073",
     "status": "completed"
    },
    "tags": []
   },
   "outputs": [],
   "source": []
  }
 ],
 "metadata": {
  "kaggle": {
   "accelerator": "none",
   "dataSources": [
    {
     "datasetId": 51153,
     "sourceId": 95503,
     "sourceType": "datasetVersion"
    }
   ],
   "dockerImageVersionId": 31089,
   "isGpuEnabled": false,
   "isInternetEnabled": true,
   "language": "python",
   "sourceType": "notebook"
  },
  "kernelspec": {
   "display_name": "Python 3",
   "language": "python",
   "name": "python3"
  },
  "language_info": {
   "codemirror_mode": {
    "name": "ipython",
    "version": 3
   },
   "file_extension": ".py",
   "mimetype": "text/x-python",
   "name": "python",
   "nbconvert_exporter": "python",
   "pygments_lexer": "ipython3",
   "version": "3.11.13"
  },
  "papermill": {
   "default_parameters": {},
   "duration": 9.120961,
   "end_time": "2025-08-02T12:10:47.500441",
   "environment_variables": {},
   "exception": null,
   "input_path": "__notebook__.ipynb",
   "output_path": "__notebook__.ipynb",
   "parameters": {},
   "start_time": "2025-08-02T12:10:38.379480",
   "version": "2.6.0"
  }
 },
 "nbformat": 4,
 "nbformat_minor": 5
}
